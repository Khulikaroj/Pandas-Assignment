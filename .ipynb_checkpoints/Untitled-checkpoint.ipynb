{
 "cells": [
  {
   "cell_type": "markdown",
   "metadata": {},
   "source": [
    "# Conclusion\n",
    "\n",
    "## Customized Portfolio\n",
    "Customized portfolio comprise of 3 stocks with equal weight which are Netflix (NFLX), Amazon (AMZN), and UnitedHealth (UNH). \n",
    "\n",
    "## Performance & Risk\n",
    "From cummulative return during Mar 2015 to April 2019, best performing potfolio is Algo1 porfolio with 78.6% cummulative return. S&P500 is second best performing portfolio with 19.8% accummulative return. The rest of portfolios underperformed S&P 500. Berkshire and Soros gained over the four years period. Meanwhile, Customized portfolio (-12.6%) along with Paulson (-23.6%) and Tiger (-5.9%) were underwater. Paulson portfolio was the worst performer while Customized portfolio was the second worst.\n",
    "\n",
    "When consider return per risk, Customized portfolio (0.59) slightly outperformed than S&P500 (0.43). Customized portfolio also outperformed the whales and Algo2. However, Algo1 was the best performer (1.35). \n",
    "\n",
    "With less stocks in portfolio, Customized portfolio's daily return was more volatile than S&P500 and the other 6 portfolios. This is due to less diversification in the portfolio. Customized portfolio's return was less correlated with the rest. Beta of the Custimized portfolio was also more volatile.\n"
   ]
  }
 ],
 "metadata": {
  "kernelspec": {
   "display_name": "Python 3",
   "language": "python",
   "name": "python3"
  },
  "language_info": {
   "codemirror_mode": {
    "name": "ipython",
    "version": 3
   },
   "file_extension": ".py",
   "mimetype": "text/x-python",
   "name": "python",
   "nbconvert_exporter": "python",
   "pygments_lexer": "ipython3",
   "version": "3.7.6"
  }
 },
 "nbformat": 4,
 "nbformat_minor": 4
}
